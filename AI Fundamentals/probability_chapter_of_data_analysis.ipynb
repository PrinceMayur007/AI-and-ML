{
 "cells": [
  {
   "cell_type": "markdown",
   "metadata": {},
   "source": [
    "# Probability"
   ]
  },
  {
   "cell_type": "markdown",
   "metadata": {},
   "source": [
    "Event: A self-explanatory word. It is an ocurrence  of an situation/scenario."
   ]
  },
  {
   "cell_type": "markdown",
   "metadata": {},
   "source": [
    "For instance, \n",
    "* Will it rain tomorrow?\n",
    "* Will India win the match tomorrow?\n",
    "* What would be the stock price of company X next hour?"
   ]
  },
  {
   "cell_type": "markdown",
   "metadata": {},
   "source": [
    "Outcome: Possible consequneces of an event."
   ]
  },
  {
   "cell_type": "markdown",
   "metadata": {},
   "source": [
    "For instance,\n",
    "* In the rain example above, it would be a discrete outcome - Yes or NO.\n",
    "* In the match example, again it would be a discrete outcom - Win/Draw/Lose\n",
    "* In the stock market, it would be a continuous (any real) value - 24, 24.1, 24.21,....."
   ]
  },
  {
   "cell_type": "markdown",
   "metadata": {},
   "source": [
    "Randomness: We saw that for an event there are multiple outcomes and the outcome is uncertain. This implies that the evet is a random event."
   ]
  },
  {
   "cell_type": "markdown",
   "metadata": {},
   "source": [
    "Probability - As mentioned earlier, it is quantification/ Estimation of the event's randomness."
   ]
  },
  {
   "cell_type": "markdown",
   "metadata": {},
   "source": [
    "But how?"
   ]
  },
  {
   "cell_type": "markdown",
   "metadata": {},
   "source": [
    "#### Important Property of Probability\n",
    "An important property of probability to know before we discuss this --- Probability of an event always lies between 0 and 1, inclusive.\n",
    " i.e. 0 <= P(Event) <= 1."
   ]
  },
  {
   "cell_type": "markdown",
   "metadata": {},
   "source": [
    "#### Common ways of estimating\n",
    "Empirical/Objective: Frequency estimation from historical data.\n"
   ]
  },
  {
   "cell_type": "markdown",
   "metadata": {},
   "source": [
    "   * For instance, in the last 10 matches, if India has won 7 matches out of 10, then probability of it winning next match could be 0.7.\n",
    "   * This approach assumes historical performance is a good representation of the future, which might not be strong assumption."
   ]
  },
  {
   "cell_type": "markdown",
   "metadata": {},
   "source": [
    "Subjective: Domain experts with thier exaperience and deep understanding, could subjectively provide a probabilty value.\n",
    "  * For instance, an experienced ad known sport personality could estimate, based on his knowledge of pitch, team's composition, climate and other such factors, the probability to be 0.8.\n",
    "  * Since it is subjective, it might vary person to person and getting a consensus is not easy."
   ]
  },
  {
   "cell_type": "markdown",
   "metadata": {},
   "source": [
    "#### Few More Terminologies"
   ]
  },
  {
   "cell_type": "markdown",
   "metadata": {},
   "source": [
    "Complementary event - If the event is India winning the match, the complemntary event is India losing the match, assuming draw is not an option."
   ]
  },
  {
   "cell_type": "markdown",
   "metadata": {},
   "source": [
    "Mutually exclusive event - When the outcome of the evnts cannot overlap, then the events are mutually exclusive. For instance, if the outcome of the match can only be win or loss. If India wins then opponent loss."
   ]
  },
  {
   "cell_type": "markdown",
   "metadata": {},
   "source": [
    "Independent events - If two have no connection i.e. the occurrence of event A has no effect on occurrence of event B, then the events are said to be independent. For instance, India is winning a cricket match against Australia has no dependence on Liverpool winning a football match against Arsenal."
   ]
  },
  {
   "cell_type": "markdown",
   "metadata": {},
   "source": [
    "Dependent events - As name suggests, any connection/relation between two events i.e. occurrence of event A is dependent on occurrence of event B, then the events are dependent. For instance, India's openers scoring centuries have some dependency on India's chances of winning the match."
   ]
  },
  {
   "cell_type": "markdown",
   "metadata": {},
   "source": [
    "#### Few More Properties of Probability"
   ]
  },
  {
   "cell_type": "markdown",
   "metadata": {},
   "source": [
    "* The sum of all probabilites of the outcomes of an event is 1.\n",
    "   * If we toss a fair coin, the possible outcomes are head or tail.\n",
    "   * So, the sum of P(Head) + P(Tail) = 1"
   ]
  },
  {
   "cell_type": "markdown",
   "metadata": {},
   "source": [
    "* If probability of any event A is P(A) then the probability of complementary event is 1 - P(A).\n",
    "    * For instance, if we toss a fair coin and if the probability of getting head is 0.5 then the probabilty of getting tail is 0.5."
   ]
  },
  {
   "cell_type": "markdown",
   "metadata": {},
   "source": [
    "*  Probability of impossible event is 0.\n",
    "    * For instance, probability of sun rising in the west is 0."
   ]
  },
  {
   "cell_type": "markdown",
   "metadata": {},
   "source": [
    "* Probability of certain event is 1.\n",
    "    * For instance, probability of sun rising in the east is 1."
   ]
  },
  {
   "cell_type": "markdown",
   "metadata": {},
   "source": [
    "#### Probability - Union/ Intersection of the Events"
   ]
  },
  {
   "cell_type": "markdown",
   "metadata": {},
   "source": [
    "The concept of calculation of probabilties of two events is derived from the set thoery concept."
   ]
  },
  {
   "cell_type": "markdown",
   "metadata": {},
   "source": [
    "Joint Probability - Probability of both two events occurring together is denoted by:\n",
    "* P(A∩B), where the symbol ∩ represents intersection."
   ]
  },
  {
   "cell_type": "markdown",
   "metadata": {},
   "source": [
    "Probabilty of either event A or B or both occurring is denoted by:\n",
    "* P(A∪B), where the symbol ∪ represents union\n",
    "* It is calculated as: \n",
    "        P(A∪B) = P(A) + P(B) - P(A∩B)\n",
    "* For instance, Probability of India's captain scoring hundred or India winning the match or both, can be calculated by: \n",
    "    * P(Captain scoring hundred) + P(India winning the match) - P(Captain scoring hundred and India wining the match)."
   ]
  },
  {
   "cell_type": "markdown",
   "metadata": {},
   "source": [
    "#### Probabilty - Mutually Eclusive/Dependent and Independent Events"
   ]
  },
  {
   "cell_type": "markdown",
   "metadata": {},
   "source": [
    "If the two events are mutually exclusive, then P(A∩B) = 0.\n",
    "   * For instance, if we toss a fair coin, the outcome of the toss can be either Head or Tail. So, probability of the outcome to be both Head and Tail is 0.\n",
    "   * Also, with this condition,\n",
    "      * P(A∪B) = P(A) + P(B), because P(A∩B)  = 0\n",
    "      \n",
    "For two independent events, P(A∩B) = P(A) x P(B)\n",
    "  * Hence, P(A∪B) = P(A) + P(B) - P(A) x P(B)"
   ]
  },
  {
   "cell_type": "markdown",
   "metadata": {},
   "source": [
    "#### Conditional Probability"
   ]
  },
  {
   "cell_type": "markdown",
   "metadata": {},
   "source": [
    "* Given two events, the probability of event B, on the condition that another event A has occured.\n",
    "* Denoted by: P(B|A)\n",
    "* Read as: Probability of B given A.\n",
    "* It is defined as: \n",
    "           P(B|A) = P(A∩B)/P(A),where P(B)>0"
   ]
  },
  {
   "cell_type": "markdown",
   "metadata": {},
   "source": [
    "#### Marginal Probability"
   ]
  },
  {
   "cell_type": "markdown",
   "metadata": {},
   "source": [
    "* Probability of an event, without any conditions.\n",
    "\n",
    "We will see this in later phases"
   ]
  },
  {
   "cell_type": "markdown",
   "metadata": {},
   "source": [
    "#### Total Probality Rule"
   ]
  },
  {
   "cell_type": "markdown",
   "metadata": {},
   "source": [
    "TPR gives the probability of an event, in terms of event's conditional probabilities of mutually exclusive scenarios, which are exhaustive.\n",
    "* For instace, for an event there are only two exhaustive outcomes. P(S) and P(S$^{c}$). So, in this case P(A), in terms of the scenarios of S is given as:\n",
    "    * P(A) = P(A|S)P(S)+ P(A|S$^{c}$)P(S$^{c}$)"
   ]
  },
  {
   "cell_type": "markdown",
   "metadata": {},
   "source": [
    "### Bayes' Law"
   ]
  },
  {
   "cell_type": "markdown",
   "metadata": {},
   "source": [
    "We know from conditional probabilities,\n",
    "* P(A|B) = P(A∩B)/P(B) and\n",
    "* P(B|A) = P(A∩B)/P(A)"
   ]
  },
  {
   "cell_type": "markdown",
   "metadata": {},
   "source": [
    "Bayes' Law states = P(B|A) = [P(A/B)P(B)]/P(A)"
   ]
  },
  {
   "cell_type": "markdown",
   "metadata": {},
   "source": [
    "So this law helps the user to update the probability of an event, when any additional information is given, i.e. when the event A has occured."
   ]
  },
  {
   "cell_type": "markdown",
   "metadata": {},
   "source": [
    "#### Bayes' Law - Few Terminologies "
   ]
  },
  {
   "cell_type": "markdown",
   "metadata": {},
   "source": [
    "* P(B) is called priori probability( this is the probability without any new information).\n",
    "* P(B|A) - Posterior probability - Bayes' law provides this probability i.e. when the prior probability is updated based on the additional information of event A.\n",
    "* P(A) - is the prior probability of A.\n",
    "* P(A|B) - is the likelihood of observing th evidence A if B is true."
   ]
  },
  {
   "cell_type": "markdown",
   "metadata": {},
   "source": [
    "#### Exploring some examples on Bayes' Law"
   ]
  },
  {
   "cell_type": "markdown",
   "metadata": {},
   "source": [
    "For instance, we know the following probabilities from our historical data:\n",
    "* P(B) =  probability of having cancer = 0.1\n",
    "* P(B$^{c}$) = probability of not having cancer = 1- 0.1 = 0.9\n",
    "* P(A|B) = probability of diagnosis is positive, if having cancer = 0.99\n",
    "* P(A|B$^{c}$) = probability of diagnosis is positive, if not having cancer = 0.1"
   ]
  },
  {
   "cell_type": "markdown",
   "metadata": {},
   "source": [
    "What is the probability that a patient whose diagnosis is positive has cancer i.e. what is P(B|A)?"
   ]
  },
  {
   "cell_type": "markdown",
   "metadata": {},
   "source": [
    "Here we know,\n",
    "  The prior probability of having cancer - 0.1 and the question is, given the additional information that the diagnosis is positive, what is the posterior probability?\n",
    "  *Solve using Bayes' Law."
   ]
  },
  {
   "cell_type": "markdown",
   "metadata": {},
   "source": [
    "We know from Bayes' law:\n",
    "\n",
    "        P(B|A) = [P(A/B)P(B)]/P(A)\n",
    "\n",
    "Using total probability rule, \n",
    "\n",
    "        P(A|B)P(B) + P(A|BC)P(BC)\n",
    "        \n",
    "So, after placing the values, we get P(A) = 0.189.\n",
    "Hence, \n",
    "    \n",
    "        P(B|A) = (0.99 x 0.1) / 0.189 = 0.523"
   ]
  },
  {
   "cell_type": "markdown",
   "metadata": {},
   "source": [
    "_Later, we shall see that based on some naive assumptions and extrapolation of this law to multiple variables, can give us a powerfull analytical technique called - Naive Bayes._"
   ]
  }
 ],
 "metadata": {
  "kernelspec": {
   "display_name": "Python 3",
   "language": "python",
   "name": "python3"
  },
  "language_info": {
   "codemirror_mode": {
    "name": "ipython",
    "version": 3
   },
   "file_extension": ".py",
   "mimetype": "text/x-python",
   "name": "python",
   "nbconvert_exporter": "python",
   "pygments_lexer": "ipython3",
   "version": "3.8.3"
  }
 },
 "nbformat": 4,
 "nbformat_minor": 4
}
